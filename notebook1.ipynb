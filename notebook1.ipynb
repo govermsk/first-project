{
 "cells": [
  {
   "cell_type": "markdown",
   "id": "e2ba5f9d-cb07-414c-8ad6-88e31c052921",
   "metadata": {},
   "source": [
    "Проверка изменений. Внесены изменения 1\n"
   ]
  }
 ],
 "metadata": {
  "kernelspec": {
   "display_name": "Python 3 (ipykernel)",
   "language": "python",
   "name": "python3"
  },
  "language_info": {
   "codemirror_mode": {
    "name": "ipython",
    "version": 3
   },
   "file_extension": ".py",
   "mimetype": "text/x-python",
   "name": "python",
   "nbconvert_exporter": "python",
   "pygments_lexer": "ipython3",
   "version": "3.10.4"
  }
 },
 "nbformat": 4,
 "nbformat_minor": 5
}
